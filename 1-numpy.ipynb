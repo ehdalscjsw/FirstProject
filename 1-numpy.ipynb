{
 "cells": [
  {
   "cell_type": "markdown",
   "metadata": {},
   "source": [
    "# numpy"
   ]
  },
  {
   "cell_type": "markdown",
   "metadata": {},
   "source": [
    "## 특징\n",
    "---\n",
    "\n",
    "    1) 벡터 및 행렬 연산과 관련된 편리한 기능을 제공\n",
    "    2) list와 거의 동일하지만 numpy배열의 특징을 갖는다.\n",
    "        - 배열 : 모든 원소가 같은 자료형이어야 한다. 원소의 갯수를 바꿀 수 없다.\n",
    "    3) 빠른 속도를 지원\n",
    "    4) 벡터화 연산, 배열 인덱싱을 통한 질의 가능\n",
    "    5) http://www.numpy.org"
   ]
  },
  {
   "cell_type": "code",
   "execution_count": 1,
   "metadata": {},
   "outputs": [],
   "source": [
    "import numpy as np"
   ]
  },
  {
   "cell_type": "markdown",
   "metadata": {},
   "source": [
    "### 1차원 배열"
   ]
  },
  {
   "cell_type": "code",
   "execution_count": 2,
   "metadata": {},
   "outputs": [
    {
     "name": "stdout",
     "output_type": "stream",
     "text": [
      "[1, 2, 3, 4, 5, 10, 20, '가나다']\n",
      "<class 'list'>\n"
     ]
    }
   ],
   "source": [
    "a1 = [1, 2, 3, 4, 5, 10, 20, \"가나다\"]\n",
    "print(a1)\n",
    "print(type(a1))"
   ]
  },
  {
   "cell_type": "code",
   "execution_count": 3,
   "metadata": {},
   "outputs": [
    {
     "name": "stdout",
     "output_type": "stream",
     "text": [
      "['1' '2' '3' '4' '5' '10' '20' '가나다']\n",
      "<class 'numpy.ndarray'>\n",
      "(8,)\n",
      "1\n",
      "8\n"
     ]
    }
   ],
   "source": [
    "a2 = np.array([1, 2, 3, 4, 5, 10, 20, \"가나다\"])\n",
    "print(a2)\n",
    "print(type(a2))\n",
    "print(a2.shape)\n",
    "print(a2.ndim)\n",
    "print(len(a2))"
   ]
  },
  {
   "cell_type": "code",
   "execution_count": 4,
   "metadata": {},
   "outputs": [
    {
     "name": "stdout",
     "output_type": "stream",
     "text": [
      "[1, 2, 3, 4, 5, 6, 7, 8, 9, 1, 2, 3, 4, 5, 6, 7, 8, 9]\n",
      "[ 2  4  6  8 10 12 14 16 18]\n",
      "[ 3  4  5  6  7  8  9 10 11]\n",
      "-----------------------\n",
      "1\n"
     ]
    }
   ],
   "source": [
    "# 벡터화 연산\n",
    "data = [1, 2, 3, 4, 5, 6, 7, 8, 9]\n",
    "print(data*2)\n",
    "\n",
    "data2 = np.array(data)\n",
    "print(data2 * 2)\n",
    "print(data2 + 2)\n",
    "print(\"-----------------------\")\n",
    "print(data2[0])"
   ]
  },
  {
   "cell_type": "markdown",
   "metadata": {},
   "source": [
    "### 2차원 배열"
   ]
  },
  {
   "cell_type": "code",
   "execution_count": 5,
   "metadata": {},
   "outputs": [
    {
     "name": "stdout",
     "output_type": "stream",
     "text": [
      "[[0 1 2]\n",
      " [3 4 5]]\n",
      "(2, 3)\n",
      "2\n",
      "[0 1 2]\n",
      "1\n",
      "2\n",
      "3\n"
     ]
    }
   ],
   "source": [
    "arr = np.array([[0,1,2],[3,4,5]])\n",
    "print(arr)\n",
    "print(arr.shape)\n",
    "print(arr.ndim)\n",
    "print(arr[0])\n",
    "print(arr[0][1])\n",
    "print(len(arr))\n",
    "print(len(arr[0]))"
   ]
  },
  {
   "cell_type": "markdown",
   "metadata": {},
   "source": [
    "### 3차원 배열"
   ]
  },
  {
   "cell_type": "code",
   "execution_count": 6,
   "metadata": {},
   "outputs": [
    {
     "name": "stdout",
     "output_type": "stream",
     "text": [
      "[[[ 1  2  3  4]\n",
      "  [ 5  6  7  8]\n",
      "  [ 9 10 11 12]]\n",
      "\n",
      " [[13 14 15 16]\n",
      "  [17 18 19 20]\n",
      "  [21 22 23 24]]]\n",
      "---------------------\n",
      "[[ 1  2  3  4]\n",
      " [ 5  6  7  8]\n",
      " [ 9 10 11 12]]\n",
      "---------------------\n",
      "[1 2 3 4]\n",
      "---------------------\n",
      "1\n",
      "---------------------\n",
      "(2, 3, 4)\n",
      "3\n",
      "2 3 4\n"
     ]
    }
   ],
   "source": [
    "arr = np.array([[[1,2,3,4],[5,6,7,8],[9,10,11,12]],\n",
    "[[13,14,15,16],[17,18,19,20],[21,22,23,24]]])\n",
    "\n",
    "print(arr)\n",
    "print('---------------------')\n",
    "print(arr[0])\n",
    "print('---------------------')\n",
    "print(arr[0][0])\n",
    "print('---------------------')\n",
    "print(arr[0][0][0])\n",
    "print('---------------------')\n",
    "print(arr.shape)\n",
    "print(arr.ndim)\n",
    "print(len(arr),len(arr[0]),len(arr[0][0]))\n"
   ]
  },
  {
   "cell_type": "code",
   "execution_count": 7,
   "metadata": {},
   "outputs": [
    {
     "name": "stdout",
     "output_type": "stream",
     "text": [
      "[[[13 14 15 16]\n",
      "  [17 18 19 20]\n",
      "  [21 22 23 24]]]\n",
      "(2, 3, 4)\n",
      "3\n"
     ]
    },
    {
     "name": "stderr",
     "output_type": "stream",
     "text": [
      "C:\\Users\\user\\anaconda3\\lib\\site-packages\\ipykernel_launcher.py:1: FutureWarning: Using a non-tuple sequence for multidimensional indexing is deprecated; use `arr[tuple(seq)]` instead of `arr[seq]`. In the future this will be interpreted as an array index, `arr[np.array(seq)]`, which will result either in an error or a different result.\n",
      "  \"\"\"Entry point for launching an IPython kernel.\n"
     ]
    }
   ],
   "source": [
    "print(arr[[[1]]])\n",
    "print(arr.shape)\n",
    "print(arr.ndim)"
   ]
  },
  {
   "cell_type": "markdown",
   "metadata": {},
   "source": [
    "### 배열의 인덱싱"
   ]
  },
  {
   "cell_type": "code",
   "execution_count": 8,
   "metadata": {},
   "outputs": [
    {
     "name": "stdout",
     "output_type": "stream",
     "text": [
      "2 4\n"
     ]
    }
   ],
   "source": [
    "arr = np.array([0,1,2,3,4])\n",
    "print(arr[2], arr[-1])"
   ]
  },
  {
   "cell_type": "code",
   "execution_count": 9,
   "metadata": {},
   "outputs": [
    {
     "name": "stdout",
     "output_type": "stream",
     "text": [
      "2 2 5 4\n"
     ]
    }
   ],
   "source": [
    "arr = np.array([[0,1,2],[3,4,5]])\n",
    "print(arr[0][2], arr[0,2],arr[1,-1],arr[-1,1])"
   ]
  },
  {
   "cell_type": "code",
   "execution_count": 10,
   "metadata": {},
   "outputs": [
    {
     "name": "stdout",
     "output_type": "stream",
     "text": [
      "[0 2 4 6 8]\n",
      "[0 1 0 1 0 1 0 1 0 1]\n",
      "[ True False  True False  True False  True False  True False]\n",
      "[0 2 4 6 8]\n",
      "[0 3 6 9]\n",
      "[1 5 9]\n",
      "[9]\n"
     ]
    }
   ],
   "source": [
    "# fancy indexing\n",
    "arr = np.array([i for i in range(10)])\n",
    "idx = np.array([True,False,True, False, True, False, True, False, True, False])\n",
    "\n",
    "print(arr[idx])\n",
    "print(arr%2)\n",
    "print(arr%2 == 0)\n",
    "print(arr[arr%2==0])\n",
    "\n",
    "# arr에서 3의 배수를 찾아라\n",
    "print(arr[arr%3==0])\n",
    "# arr에서 4로 나누면 1이 남는 수를 찾아라\n",
    "print(arr[arr%4==1])\n",
    "# arr에서 3으로 나누면 나눠지고, 4로 나누면 1이 남는 수를 찾아라\n",
    "print(arr[(arr%3==0) & (arr%4==1)])\n"
   ]
  },
  {
   "cell_type": "markdown",
   "metadata": {},
   "source": [
    "### 배열의 슬라이싱"
   ]
  },
  {
   "cell_type": "code",
   "execution_count": 11,
   "metadata": {},
   "outputs": [
    {
     "name": "stdout",
     "output_type": "stream",
     "text": [
      "[0 1 2 3]\n",
      "----------------------------\n",
      "[0 1]\n",
      "----------------------------\n",
      "[[4 5]\n",
      " [8 9]]\n",
      "----------------------------\n",
      "[[0 1]\n",
      " [4 5]]\n",
      "----------------------------\n",
      "[[ 8  9 10 11]\n",
      " [ 4  5  6  7]\n",
      " [ 0  1  2  3]]\n"
     ]
    }
   ],
   "source": [
    "arr = np.array([[0,1,2,3],\n",
    "              [4,5,6,7],\n",
    "              [8,9,10,11]])\n",
    "\n",
    "print(arr[0,:])\n",
    "print(\"----------------------------\")\n",
    "print(arr[0,0:2])\n",
    "print(\"----------------------------\")\n",
    "print(arr[1:3, 0:2])\n",
    "print(\"----------------------------\")\n",
    "\n",
    "# 0,1,4,5\n",
    "print(arr[:2,:2])\n",
    "print(\"----------------------------\")\n",
    "\n",
    "# 행의 위치 변경\n",
    "print(arr[[2,1,0],:])"
   ]
  },
  {
   "cell_type": "markdown",
   "metadata": {},
   "source": [
    "### Numpy 자료형\n",
    "\n",
    "    - b : 논리형\n",
    "    - i : 정수                ex) i8\n",
    "    - u : 부호없는 정수\n",
    "    - f : 부동소수점\n",
    "    - c : 복소수\n",
    "    - O : 객체\n",
    "    - S : 바이트 문자열       ex) S24\n",
    "    - U : 유니코드"
   ]
  },
  {
   "cell_type": "code",
   "execution_count": 12,
   "metadata": {},
   "outputs": [
    {
     "name": "stdout",
     "output_type": "stream",
     "text": [
      "int32\n",
      "float64\n"
     ]
    }
   ],
   "source": [
    "arr = np.array([1,2,3])\n",
    "print(arr.dtype)\n",
    "\n",
    "arr = np.array([1.0,2.0,3.0])\n",
    "print(arr.dtype)"
   ]
  },
  {
   "cell_type": "code",
   "execution_count": 13,
   "metadata": {},
   "outputs": [
    {
     "name": "stdout",
     "output_type": "stream",
     "text": [
      "float32\n",
      "3.0\n",
      "<U1\n",
      "12\n"
     ]
    }
   ],
   "source": [
    "\n",
    "arr = np.array([1,2,3],dtype=\"f\")\n",
    "print(arr.dtype)\n",
    "print(arr[0]+arr[1])\n",
    "\n",
    "arr = np.array([1,2,3],dtype=\"U\")\n",
    "print(arr.dtype)\n",
    "print(arr[0]+arr[1])"
   ]
  },
  {
   "cell_type": "markdown",
   "metadata": {},
   "source": [
    "### 배열 생성"
   ]
  },
  {
   "cell_type": "code",
   "execution_count": 14,
   "metadata": {},
   "outputs": [
    {
     "name": "stdout",
     "output_type": "stream",
     "text": [
      "[0. 0. 0. 0. 0.]\n",
      "<class 'numpy.ndarray'>\n",
      "float64\n",
      "--------------------------\n",
      "[0 0 0 0 0]\n",
      "int32\n",
      "--------------------------\n",
      "['' '' '' '' '']\n",
      "<U4\n",
      "--------------------------\n",
      "['' '' '' '' '']\n",
      "<U4\n",
      "['abc' 'abcd' 'abcd' '' '']\n",
      "--------------------------\n",
      "[[0. 0. 0.]\n",
      " [0. 0. 0.]]\n",
      "--------------------------\n",
      "[[[1. 1. 1. 1.]\n",
      "  [1. 1. 1. 1.]\n",
      "  [1. 1. 1. 1.]]\n",
      "\n",
      " [[1. 1. 1. 1.]\n",
      "  [1. 1. 1. 1.]\n",
      "  [1. 1. 1. 1.]]]\n",
      "--------------------------\n",
      "[[0. 0. 0.]\n",
      " [0. 0. 0.]]\n",
      "[[1. 1. 1.]\n",
      " [1. 1. 1.]]\n",
      "--------------------------\n",
      "[[4.24399158e-314 8.48798317e-314 1.27319747e-313]\n",
      " [1.69759663e-313 2.12199579e-313 2.54639495e-313]\n",
      " [2.97079411e-313 3.39519327e-313 3.81959242e-313]\n",
      " [4.24399158e-313 4.66839074e-313 5.09278990e-313]]\n",
      "--------------------------\n",
      "[0 1 2 3 4 5 6 7 8 9]\n",
      "[ 3  5  7  9 11 13 15 17 19]\n",
      "--------------------------\n",
      "[  0.  25.  50.  75. 100.]\n"
     ]
    }
   ],
   "source": [
    "arr = np.zeros(5)\n",
    "print(arr)\n",
    "print(type(arr))\n",
    "print(arr.dtype)\n",
    "print(\"--------------------------\")\n",
    "arr = np.zeros(5,dtype=\"i\")\n",
    "print(arr)\n",
    "print(arr.dtype)\n",
    "print(\"--------------------------\")\n",
    "arr = np.zeros(5,dtype=\"U4\")\n",
    "print(arr)\n",
    "print(arr.dtype)\n",
    "print(\"--------------------------\")\n",
    "arr = np.zeros(5,dtype=\"U4\")\n",
    "print(arr)\n",
    "print(arr.dtype)\n",
    "arr[0] = 'abc'\n",
    "arr[1] = 'abcd'\n",
    "arr[2] = 'abcde'\n",
    "print(arr)\n",
    "print(\"--------------------------\")\n",
    "arr = np.zeros((2,3))\n",
    "print(arr)\n",
    "print(\"--------------------------\")\n",
    "arr = np.ones((2,3,4))\n",
    "print(arr)\n",
    "print(\"--------------------------\")\n",
    "arr1 = np.zeros((2,3))\n",
    "arr2 = np.ones_like(arr1)\n",
    "print(arr1)\n",
    "print(arr2)\n",
    "print(\"--------------------------\")\n",
    "arr = np.empty((4,3))\n",
    "print(arr)\n",
    "print(\"--------------------------\")\n",
    "arr = np.arange(10)\n",
    "print(arr)\n",
    "print(np.arange(3,21,2))\n",
    "print(\"--------------------------\")\n",
    "arr = np.linspace(0,100,5)\n",
    "print(arr)"
   ]
  },
  {
   "cell_type": "markdown",
   "metadata": {},
   "source": [
    "### 전치 연산(Transpose)"
   ]
  },
  {
   "cell_type": "code",
   "execution_count": 15,
   "metadata": {},
   "outputs": [
    {
     "name": "stdout",
     "output_type": "stream",
     "text": [
      "[[1 2 3]\n",
      " [4 5 6]]\n",
      "[[1 4]\n",
      " [2 5]\n",
      " [3 6]]\n"
     ]
    }
   ],
   "source": [
    "arr = np.array([[1,2,3],[4,5,6]])\n",
    "print(arr)\n",
    "print(arr.T)"
   ]
  },
  {
   "cell_type": "markdown",
   "metadata": {},
   "source": [
    "### 배열의 크기 변형 : reshape(), flatten(), ravel()"
   ]
  },
  {
   "cell_type": "code",
   "execution_count": 16,
   "metadata": {},
   "outputs": [
    {
     "name": "stdout",
     "output_type": "stream",
     "text": [
      "[ 0  1  2  3  4  5  6  7  8  9 10 11]\n",
      "(12,)\n",
      "----------------------------\n",
      "[[ 0  1  2  3]\n",
      " [ 4  5  6  7]\n",
      " [ 8  9 10 11]]\n",
      "(3, 4)\n",
      "----------------------------\n",
      "[[ 0  1  2  3]\n",
      " [ 4  5  6  7]\n",
      " [ 8  9 10 11]]\n",
      "(3, 4)\n",
      "----------------------------\n",
      "[[ 0  1  2  3]\n",
      " [ 4  5  6  7]\n",
      " [ 8  9 10 11]]\n",
      "(3, 4)\n",
      "----------------------------\n",
      "[[[ 0  1  2]\n",
      "  [ 3  4  5]]\n",
      "\n",
      " [[ 6  7  8]\n",
      "  [ 9 10 11]]]\n",
      "(2, 2, 3)\n",
      "[[[ 0  1  2]\n",
      "  [ 3  4  5]]\n",
      "\n",
      " [[ 6  7  8]\n",
      "  [ 9 10 11]]]\n",
      "(2, 2, 3)\n",
      "----------------------------\n",
      "[ 0  1  2  3  4  5  6  7  8  9 10 11]\n"
     ]
    }
   ],
   "source": [
    "arr = np.arange(12)\n",
    "print(arr)\n",
    "print(arr.shape)\n",
    "print(\"----------------------------\")\n",
    "arr1 = arr.reshape(3,4)\n",
    "print(arr1)\n",
    "print(arr1.shape)\n",
    "print(\"----------------------------\")\n",
    "arr2 = arr.reshape(3,-1)\n",
    "print(arr2)\n",
    "print(arr2.shape)\n",
    "print(\"----------------------------\")\n",
    "arr2 = arr.reshape(-1,4)\n",
    "print(arr2)\n",
    "print(arr2.shape)\n",
    "print(\"----------------------------\")\n",
    "arr3 = arr.reshape(2,2,3)\n",
    "print(arr3)\n",
    "print(arr3.shape)\n",
    "\n",
    "arr3 = arr.reshape(2,2,-1)\n",
    "print(arr3)\n",
    "print(arr3.shape)\n",
    "print(\"----------------------------\")\n",
    "#print(arr3.flatten())\n",
    "print(arr3.ravel())"
   ]
  },
  {
   "cell_type": "markdown",
   "metadata": {},
   "source": [
    "### 배열 연결(병합) : stack(), hstack(), dstack(), vstack(), tile()"
   ]
  },
  {
   "cell_type": "code",
   "execution_count": 17,
   "metadata": {},
   "outputs": [
    {
     "name": "stdout",
     "output_type": "stream",
     "text": [
      "[[1. 1. 1. 1. 1.]\n",
      " [1. 1. 1. 1. 1.]]\n"
     ]
    }
   ],
   "source": [
    "arr1 = np.ones((2,3))\n",
    "arr2 = np.ones((2,2))\n",
    "\n",
    "arr3 = np.hstack([arr1, arr2])\n",
    "print(arr3)"
   ]
  },
  {
   "cell_type": "code",
   "execution_count": 18,
   "metadata": {},
   "outputs": [
    {
     "name": "stdout",
     "output_type": "stream",
     "text": [
      "[[[1. 0.]\n",
      "  [1. 0.]\n",
      "  [1. 0.]\n",
      "  [1. 0.]]\n",
      "\n",
      " [[1. 0.]\n",
      "  [1. 0.]\n",
      "  [1. 0.]\n",
      "  [1. 0.]]\n",
      "\n",
      " [[1. 0.]\n",
      "  [1. 0.]\n",
      "  [1. 0.]\n",
      "  [1. 0.]]]\n",
      "(12,)\n"
     ]
    }
   ],
   "source": [
    "arr1 = np.ones((3,4))\n",
    "arr2 = np.zeros((3,4))\n",
    "\n",
    "arr3 = np.dstack([arr1, arr2])\n",
    "print(arr3)\n",
    "print(arr.shape)\n"
   ]
  },
  {
   "cell_type": "code",
   "execution_count": 19,
   "metadata": {},
   "outputs": [
    {
     "name": "stdout",
     "output_type": "stream",
     "text": [
      "[[[1. 1. 1. 1.]\n",
      "  [1. 1. 1. 1.]\n",
      "  [1. 1. 1. 1.]]\n",
      "\n",
      " [[0. 0. 0. 0.]\n",
      "  [0. 0. 0. 0.]\n",
      "  [0. 0. 0. 0.]]]\n",
      "(2, 3, 4)\n",
      "-------------------------\n",
      "[[[1. 1. 1. 1.]\n",
      "  [0. 0. 0. 0.]]\n",
      "\n",
      " [[1. 1. 1. 1.]\n",
      "  [0. 0. 0. 0.]]\n",
      "\n",
      " [[1. 1. 1. 1.]\n",
      "  [0. 0. 0. 0.]]]\n",
      "(3, 2, 4)\n",
      "-------------------------\n",
      "[[[1. 0.]\n",
      "  [1. 0.]\n",
      "  [1. 0.]\n",
      "  [1. 0.]]\n",
      "\n",
      " [[1. 0.]\n",
      "  [1. 0.]\n",
      "  [1. 0.]\n",
      "  [1. 0.]]\n",
      "\n",
      " [[1. 0.]\n",
      "  [1. 0.]\n",
      "  [1. 0.]\n",
      "  [1. 0.]]]\n",
      "(3, 4, 2)\n",
      "-------------------------\n",
      "[[[1. 0.]\n",
      "  [1. 0.]\n",
      "  [1. 0.]\n",
      "  [1. 0.]]\n",
      "\n",
      " [[1. 0.]\n",
      "  [1. 0.]\n",
      "  [1. 0.]\n",
      "  [1. 0.]]\n",
      "\n",
      " [[1. 0.]\n",
      "  [1. 0.]\n",
      "  [1. 0.]\n",
      "  [1. 0.]]]\n",
      "(3, 4, 2)\n"
     ]
    }
   ],
   "source": [
    "arr1 = np.ones((3,4))\n",
    "arr2 = np.zeros((3,4))\n",
    "#arr1 = np.ones((3))\n",
    "#arr2 = np.zeros((3))\n",
    "\n",
    "arr3 = np.stack([arr1, arr2], axis =0)\n",
    "print(arr3)\n",
    "print(arr3.shape)\n",
    "print(\"-------------------------\")\n",
    "arr1 = np.ones((3,4))\n",
    "arr2 = np.zeros((3,4))\n",
    "\n",
    "arr3 = np.stack([arr1, arr2], axis =1)\n",
    "print(arr3)\n",
    "print(arr3.shape)\n",
    "print(\"-------------------------\")\n",
    "arr3 = np.stack([arr1, arr2], axis =2)\n",
    "print(arr3)\n",
    "print(arr3.shape)\n",
    "\n",
    "print(\"-------------------------\")\n",
    "arr3 = np.stack([arr1, arr2], axis =2)\n",
    "print(arr3)\n",
    "print(arr3.shape)"
   ]
  },
  {
   "cell_type": "code",
   "execution_count": 20,
   "metadata": {},
   "outputs": [
    {
     "name": "stdout",
     "output_type": "stream",
     "text": [
      "[[0 1 2]\n",
      " [3 4 5]]\n",
      "----------------------------\n",
      "[[0 1 2 0 1 2]\n",
      " [3 4 5 3 4 5]]\n",
      "----------------------------\n",
      "[[0 1 2 0 1 2]\n",
      " [3 4 5 3 4 5]\n",
      " [0 1 2 0 1 2]\n",
      " [3 4 5 3 4 5]\n",
      " [0 1 2 0 1 2]\n",
      " [3 4 5 3 4 5]]\n"
     ]
    }
   ],
   "source": [
    "# tile\n",
    "arr = np.array([[0,1,2], [3,4,5]])\n",
    "print(arr)\n",
    "print(\"----------------------------\")\n",
    "print(np.tile(arr,2))\n",
    "print(\"----------------------------\")\n",
    "print(np.tile(arr,(3,2)))"
   ]
  },
  {
   "cell_type": "markdown",
   "metadata": {},
   "source": [
    "## 2차원 그리드 포인트 생성 : meshgrid()"
   ]
  },
  {
   "cell_type": "code",
   "execution_count": 21,
   "metadata": {},
   "outputs": [
    {
     "name": "stdout",
     "output_type": "stream",
     "text": [
      "[0 1 2]\n",
      "[0 1 2 3 4]\n",
      "------------------------------\n",
      "[[0 1 2]\n",
      " [0 1 2]\n",
      " [0 1 2]\n",
      " [0 1 2]\n",
      " [0 1 2]]\n",
      "===============\n",
      "[[0 0 0]\n",
      " [1 1 1]\n",
      " [2 2 2]\n",
      " [3 3 3]\n",
      " [4 4 4]]\n"
     ]
    },
    {
     "data": {
      "text/plain": [
       "<matplotlib.collections.PathCollection at 0x2bc9e9d0e08>"
      ]
     },
     "execution_count": 21,
     "metadata": {},
     "output_type": "execute_result"
    },
    {
     "data": {
      "image/png": "[encoded data removed]",
      "text/plain": [
       "<Figure size 432x288 with 1 Axes>"
      ]
     },
     "metadata": {
      "needs_background": "light"
     },
     "output_type": "display_data"
    }
   ],
   "source": [
    "x = np.arange(3)\n",
    "print(x)\n",
    "\n",
    "y=np.arange(5)\n",
    "print(y)\n",
    "\n",
    "print(\"------------------------------\")\n",
    "\n",
    "X, Y = np.meshgrid(x, y)\n",
    "print(X)\n",
    "print(\"===============\")\n",
    "print(Y)\n",
    "\n",
    "import matplotlib.pylab as plt\n",
    "plt.scatter(X,Y)"
   ]
  },
  {
   "cell_type": "code",
   "execution_count": 22,
   "metadata": {},
   "outputs": [
    {
     "name": "stdout",
     "output_type": "stream",
     "text": [
      "[[0 1 2]\n",
      " [0 1 2]\n",
      " [0 1 2]\n",
      " [0 1 2]\n",
      " [0 1 2]] [[0 0 0]\n",
      " [1 1 1]\n",
      " [2 2 2]\n",
      " [3 3 3]\n",
      " [4 4 4]]\n",
      "[[(0, 0), (1, 0), (2, 0)], [(0, 1), (1, 1), (2, 1)], [(0, 2), (1, 2), (2, 2)], [(0, 3), (1, 3), (2, 3)], [(0, 4), (1, 4), (2, 4)]]\n"
     ]
    },
    {
     "data": {
      "text/plain": [
       "<matplotlib.collections.PathCollection at 0x2bc9f637c48>"
      ]
     },
     "execution_count": 22,
     "metadata": {},
     "output_type": "execute_result"
    },
    {
     "data": {
      "image/png": "[encoded data removed]",
      "text/plain": [
       "<Figure size 432x288 with 1 Axes>"
      ]
     },
     "metadata": {
      "needs_background": "light"
     },
     "output_type": "display_data"
    }
   ],
   "source": [
    "'''\n",
    "[   [(0,0),(1,0),(2,0)],\n",
    "    [(0,1),(1,1),(2,1)],\n",
    "    [(0,2),(1,2),(2,2)],\n",
    "    [(0,3),(1,3),(2,3)],\n",
    "    [(0,4),(1,4),(2,4)]   ]\n",
    "'''\n",
    "#grid point\n",
    "import matplotlib.pylab as plt  # 파이썬에서 제공하는 그래프\n",
    "plt.scatter(X,Y)\n",
    "\"\"\"[ [(0,0), (1,0), (2,0)],\n",
    "[(0,1),(1,1),(2,1)],\n",
    "[(0,2),(1,2),(2,2)],\n",
    "[(0,3),(1,3),(2,3)],\n",
    "[(0,4),(1,4),(2,4)] ] \"\"\"\n",
    "a = np.arange(3)\n",
    "b = np.arange(5)\n",
    "A,B = np.meshgrid(a,b)\n",
    "print(A,B)\n",
    "print([list(zip(a, b)) for a, b in zip(A, B)])\n",
    "plt.scatter(A,B)"
   ]
  },
  {
   "cell_type": "markdown",
   "metadata": {},
   "source": [
    "### 브로드 캐스팅(BroadCasting)\n",
    "\n",
    "        - 크기가 서로 다른 행렬(벡터)끼리 연산을 가능하게 하는 것       **시험"
   ]
  },
  {
   "cell_type": "code",
   "execution_count": 23,
   "metadata": {},
   "outputs": [
    {
     "name": "stdout",
     "output_type": "stream",
     "text": [
      "[0, 1, 2, 3, 4]\n",
      "[[0], [1], [2], [3], [4]]\n",
      "[range(0, 3), range(1, 4), range(2, 5), range(3, 6), range(4, 7)]\n"
     ]
    }
   ],
   "source": [
    "print([i for i in range(5)])\n",
    "print([[i] for i in range(5)])\n",
    "print([range(7)[i:i+3] for i in range(5)])"
   ]
  },
  {
   "cell_type": "code",
   "execution_count": 24,
   "metadata": {},
   "outputs": [
    {
     "name": "stdout",
     "output_type": "stream",
     "text": [
      "[[0 1 2]\n",
      " [1 2 3]\n",
      " [2 3 4]\n",
      " [3 4 5]\n",
      " [4 5 6]]\n",
      "[[0]\n",
      " [1]\n",
      " [2]\n",
      " [3]\n",
      " [4]]\n",
      "[[ 0  1  2]\n",
      " [ 2  3  4]\n",
      " [ 4  5  6]\n",
      " [ 6  7  8]\n",
      " [ 8  9 10]]\n",
      "--------------------------\n",
      "[[0 2 4]\n",
      " [1 3 5]\n",
      " [2 4 6]\n",
      " [3 5 7]\n",
      " [4 6 8]]\n"
     ]
    }
   ],
   "source": [
    "x = np.vstack([range(7)[i:i+3] for i in range(5)])\n",
    "print(x)\n",
    "y = np.arange(5)[: , np.newaxis]\n",
    "print(y)\n",
    "\n",
    "print(x+y)\n",
    "print(\"--------------------------\")\n",
    "y = np.arange(3)\n",
    "print(x+y)"
   ]
  },
  {
   "cell_type": "markdown",
   "metadata": {},
   "source": [
    "### 차원축소(dimension reduction) 연산\n",
    "    \n",
    "    - 최대값/최소값 : min(), max(), argmin(), argmax()\n",
    "    - 대표값 : sum(), mean(), median(), std(), var()\n",
    "    - 논리값 : all(). any()"
   ]
  },
  {
   "cell_type": "code",
   "execution_count": 25,
   "metadata": {},
   "outputs": [
    {
     "name": "stdout",
     "output_type": "stream",
     "text": [
      "0\n",
      "1\n"
     ]
    }
   ],
   "source": [
    "x = np.array([1,3,2])\n",
    "print(np.argmin(x))       # 최소값이 있는 위치\n",
    "print(np.argmax(x))       # 최대값이 있는 위치\n"
   ]
  },
  {
   "cell_type": "code",
   "execution_count": 26,
   "metadata": {},
   "outputs": [
    {
     "name": "stdout",
     "output_type": "stream",
     "text": [
      "True\n",
      "False\n"
     ]
    }
   ],
   "source": [
    "print(np.any([True, True, False]))\n",
    "print(np.all([True, True, False]))"
   ]
  },
  {
   "cell_type": "code",
   "execution_count": 27,
   "metadata": {},
   "outputs": [
    {
     "name": "stdout",
     "output_type": "stream",
     "text": [
      "6\n",
      "[3 3]\n",
      "[2 4]\n"
     ]
    }
   ],
   "source": [
    "x = np.array([[1,1],\n",
    "              [2,2]])\n",
    "\n",
    "print(x.sum())\n",
    "print(x.sum(axis=0))  # 열 합계\n",
    "print(x.sum(axis=1))  # 행 합계"
   ]
  },
  {
   "cell_type": "markdown",
   "metadata": {},
   "source": [
    "### 기술 통계\n",
    "\n",
    "        - len()\n",
    "        - sum(), mean(), median(), std(), var()\n",
    "        - percentile() : 사분위수"
   ]
  },
  {
   "cell_type": "code",
   "execution_count": 28,
   "metadata": {},
   "outputs": [
    {
     "name": "stdout",
     "output_type": "stream",
     "text": [
      "최소값 : -24.0\n",
      "최대값 : 23.0\n",
      "1사분위 : 0.0\n",
      "2사분위 : 5.0\n",
      "3사분위 : 10.0\n"
     ]
    }
   ],
   "source": [
    "x = np.array([18,   5,  10,  23,  19,  -8,  10,   0,   0,   5,   2,  15,   8,\n",
    "              2,   5,   4,  15,  -1,   4,  -7, -24,   7,   9,  -6,  23, -13])\n",
    "\n",
    "print(\"최소값 :\",np.percentile(x,0)) \n",
    "print(\"최대값 :\",np.percentile(x,100))\n",
    "print(\"1사분위 :\",np.percentile(x,25)) \n",
    "print(\"2사분위 :\",np.percentile(x,50))\n",
    "print(\"3사분위 :\",np.percentile(x,75))\n"
   ]
  },
  {
   "cell_type": "markdown",
   "metadata": {},
   "source": [
    "### 정렬"
   ]
  },
  {
   "cell_type": "code",
   "execution_count": 29,
   "metadata": {},
   "outputs": [
    {
     "name": "stdout",
     "output_type": "stream",
     "text": [
      "[[ 3  4  5  7]\n",
      " [ 1  9 11 12]\n",
      " [ 1  2 14 15]]\n",
      "[[ 3  4  5  7]\n",
      " [ 1  9 11 12]\n",
      " [ 1  2 14 15]]\n",
      "[[ 1  3  1  7]\n",
      " [ 2 12  5  9]\n",
      " [ 4 15 11 14]]\n",
      "[[ 4  3  5  7]\n",
      " [ 1 12 11  9]\n",
      " [ 2 15  1 14]]\n",
      "-------------------------\n",
      "[[ 3  4  5  7]\n",
      " [ 1  9 11 12]\n",
      " [ 1  2 14 15]]\n"
     ]
    }
   ],
   "source": [
    "arr = np.array([[4,3,5,7],\n",
    "                [1,12,11,9],\n",
    "                [2,15,1,14]])\n",
    "print(np.sort(arr))\n",
    "print(np.sort(arr, axis=1))\n",
    "print(np.sort(arr, axis=0))\n",
    "print(arr)\n",
    "arr = np.sort(arr)\n",
    "print(\"-------------------------\")\n",
    "arr = np.array([[4,3,5,7],\n",
    "                [1,12,11,9],\n",
    "                [2,15,1,14]])\n",
    "\n",
    "arr.sort()\n",
    "print(arr)"
   ]
  },
  {
   "cell_type": "code",
   "execution_count": 30,
   "metadata": {},
   "outputs": [
    {
     "name": "stdout",
     "output_type": "stream",
     "text": [
      "[2 3 1 0]\n",
      "[12 25 38 42]\n"
     ]
    }
   ],
   "source": [
    "# argsort()\n",
    "arr = np.array([42,38, 12, 25])\n",
    "idx=np.argsort(arr)\n",
    "print(idx)\n",
    "print(arr[idx])"
   ]
  },
  {
   "cell_type": "markdown",
   "metadata": {},
   "source": [
    "### 난수\n",
    "\n",
    "        - rand() : 0~1사이의 균일 분포\n",
    "        - randn() : 가우시안 표준 정규 분포\n",
    "        - randint() : 균일분포의 정수 난수"
   ]
  },
  {
   "cell_type": "code",
   "execution_count": 31,
   "metadata": {},
   "outputs": [
    {
     "name": "stdout",
     "output_type": "stream",
     "text": [
      "[0.9352805  0.34313142 0.79143545 0.17800582 0.96066553 0.47813342\n",
      " 0.45755419 0.3451979  0.74014451 0.26329261]\n",
      "-----------------------------\n",
      "[ 0.88070639  0.60394697 -1.42833937 -0.26832664  0.08885827 -0.93286911\n",
      " -0.87734209 -0.61300165 -1.13122179 -1.62839933]\n",
      "-----------------------------\n",
      "[[ 0.89003441 -1.24223632 -0.3287845  -0.03160191  0.00900412]\n",
      " [-1.97355866 -1.51238909 -0.64750935 -0.42306896  0.26729426]\n",
      " [ 0.5765052  -0.03307336 -0.21553487  1.96465462 -0.58483743]]\n",
      "-----------------------------\n"
     ]
    }
   ],
   "source": [
    "print(np.random.rand(10))\n",
    "print(\"-----------------------------\")\n",
    "print(np.random.randn(10))\n",
    "print(\"-----------------------------\")\n",
    "print(np.random.randn(3,5))\n",
    "print(\"-----------------------------\")\n"
   ]
  },
  {
   "cell_type": "code",
   "execution_count": 32,
   "metadata": {},
   "outputs": [
    {
     "name": "stdout",
     "output_type": "stream",
     "text": [
      "14\n",
      "[15 18 17 18 12 16 15 12 12 11 14 18 11 13 18 16 13 19 17 15 16 14 16 14\n",
      " 14 15 13 14 15 14 13 11 15 12 16 19 19 19 12 17 17 18 18 17 15 15 19 19\n",
      " 15 19 14 15 17 18 19 18 16 15 12 14 15 16 17 18 11 18 19 14 17 15 17 14\n",
      " 13 12 19 17 19 14 19 11 18 11 18 18 18 16 13 14 13 18 18 17 14 13 18 17\n",
      " 12 16 19 15]\n",
      "[[18 13 12 18]\n",
      " [16 19 16 11]\n",
      " [17 13 16 15]]\n"
     ]
    }
   ],
   "source": [
    "np.random.randint(10)\n",
    "print(np.random.randint(11,20))\n",
    "print(np.random.randint(11,20,size=100))\n",
    "print(np.random.randint(11,20,size=(3,4)))"
   ]
  },
  {
   "cell_type": "code",
   "execution_count": 33,
   "metadata": {},
   "outputs": [
    {
     "data": {
      "text/plain": [
       "array([0.54340494, 0.27836939, 0.42451759, 0.84477613, 0.00471886])"
      ]
     },
     "execution_count": 33,
     "metadata": {},
     "output_type": "execute_result"
    }
   ],
   "source": [
    "# 재현성\n",
    "\n",
    "np.random.seed(100)\n",
    "np.random.rand(5)"
   ]
  },
  {
   "cell_type": "code",
   "execution_count": 34,
   "metadata": {},
   "outputs": [
    {
     "name": "stdout",
     "output_type": "stream",
     "text": [
      "[0 1 2 3 4 5 6 7 8 9]\n",
      "[8 4 3 0 1 6 7 9 5 2]\n"
     ]
    }
   ],
   "source": [
    "# 데이터의 순서 바꾸기\n",
    "\n",
    "x=np.arange(10)\n",
    "print(x)\n",
    "\n",
    "np.random.shuffle(x)\n",
    "print(x)"
   ]
  },
  {
   "cell_type": "code",
   "execution_count": 35,
   "metadata": {},
   "outputs": [
    {
     "data": {
      "text/plain": [
       "array([2, 3, 2, 3, 3, 3, 2, 2, 2, 0])"
      ]
     },
     "execution_count": 35,
     "metadata": {},
     "output_type": "execute_result"
    }
   ],
   "source": [
    "# 샘플링 : 복원, 비복원\n",
    "\n",
    "np.random.choice(5,5)\n",
    "np.random.choice(5,3,replace=True)\n",
    "\n",
    "np.random.choice(5,5,replace=False)\n",
    "\n",
    "np.random.choice(5,10, p=[0.1,0,0.3,0.6,0])"
   ]
  },
  {
   "cell_type": "markdown",
   "metadata": {},
   "source": [
    "### 정수형 데이터 카운팅 : unique(), bincount()"
   ]
  },
  {
   "cell_type": "code",
   "execution_count": 36,
   "metadata": {},
   "outputs": [
    {
     "name": "stdout",
     "output_type": "stream",
     "text": [
      "5\n",
      "['a' 'b' 'c']\n"
     ]
    }
   ],
   "source": [
    "arr = np.array(['a','b','b','c','a'])\n",
    "\n",
    "print(len(arr))\n",
    "print(np.unique(arr))"
   ]
  },
  {
   "cell_type": "code",
   "execution_count": 37,
   "metadata": {},
   "outputs": [
    {
     "name": "stdout",
     "output_type": "stream",
     "text": [
      "['a' 'b' 'c']\n",
      "[2 2 1]\n"
     ]
    }
   ],
   "source": [
    "index,count = np.unique(arr,return_counts=True)\n",
    "print(index)\n",
    "print(count)"
   ]
  },
  {
   "cell_type": "code",
   "execution_count": 38,
   "metadata": {},
   "outputs": [
    {
     "name": "stdout",
     "output_type": "stream",
     "text": [
      "[0 2 3 1 0 0]\n"
     ]
    }
   ],
   "source": [
    "# bincount : 발생하지 않은 사건에 대해서도 카운트\n",
    "\n",
    "arr = np.array([1,1,2,2,2,3])\n",
    "\n",
    "print(np.bincount(arr, minlength=6))"
   ]
  },
  {
   "cell_type": "markdown",
   "metadata": {},
   "source": [
    "### 데이터 분석 실습 : 영화 평점 데이터\n",
    "\n",
    "    https://grouplens.org\n",
    "    https://grouplens.org/datasets/movielens/ml-1m.zip"
   ]
  },
  {
   "cell_type": "code",
   "execution_count": 39,
   "metadata": {},
   "outputs": [
    {
     "name": "stdout",
     "output_type": "stream",
     "text": [
      "[[        1      1193         5 978300760]\n",
      " [        1       661         3 978302109]\n",
      " [        1       914         3 978301968]\n",
      " ...\n",
      " [     6040       562         5 956704746]\n",
      " [     6040      1096         4 956715648]\n",
      " [     6040      1097         4 956715569]]\n",
      "(1000209, 4)\n"
     ]
    }
   ],
   "source": [
    "data = np.loadtxt(\"data/movie/ratings.dat\",delimiter=\"::\",dtype=np.int64)\n",
    "print(data)\n",
    "print(data.shape)"
   ]
  },
  {
   "cell_type": "code",
   "execution_count": 40,
   "metadata": {},
   "outputs": [
    {
     "name": "stdout",
     "output_type": "stream",
     "text": [
      "[[        1      1193         5 978300760]\n",
      " [        1       661         3 978302109]\n",
      " [        1       914         3 978301968]\n",
      " [        1      3408         4 978300275]\n",
      " [        1      2355         5 978824291]\n",
      " [        1      1197         3 978302268]\n",
      " [        1      1287         5 978302039]\n",
      " [        1      2804         5 978300719]\n",
      " [        1       594         4 978302268]\n",
      " [        1       919         4 978301368]\n",
      " [        1       595         5 978824268]\n",
      " [        1       938         4 978301752]\n",
      " [        1      2398         4 978302281]\n",
      " [        1      2918         4 978302124]\n",
      " [        1      1035         5 978301753]\n",
      " [        1      2791         4 978302188]\n",
      " [        1      2687         3 978824268]\n",
      " [        1      2018         4 978301777]\n",
      " [        1      3105         5 978301713]\n",
      " [        1      2797         4 978302039]\n",
      " [        1      2321         3 978302205]]\n"
     ]
    }
   ],
   "source": [
    "# 1행부터 20행까지 출력\n",
    "print(data[:21, :])"
   ]
  },
  {
   "cell_type": "code",
   "execution_count": 41,
   "metadata": {},
   "outputs": [
    {
     "name": "stdout",
     "output_type": "stream",
     "text": [
      "[[        1       720         3 978300760]\n",
      " [        1      1270         5 978300055]\n",
      " [        1       527         5 978824195]\n",
      " [        1      2340         3 978300103]\n",
      " [        1        48         5 978824351]\n",
      " [        1      1097         4 978301953]\n",
      " [        1      1721         4 978300055]\n",
      " [        1      1545         4 978824139]\n",
      " [        1       745         3 978824268]\n",
      " [        1      2294         4 978824291]]\n"
     ]
    }
   ],
   "source": [
    "# 21행부터 30행까지 출력\n",
    "print(data[21:31, :])"
   ]
  },
  {
   "cell_type": "code",
   "execution_count": 42,
   "metadata": {},
   "outputs": [
    {
     "name": "stdout",
     "output_type": "stream",
     "text": [
      "[[   1  720]\n",
      " [   1 1270]\n",
      " [   1  527]\n",
      " [   1 2340]\n",
      " [   1   48]\n",
      " [   1 1097]\n",
      " [   1 1721]\n",
      " [   1 1545]\n",
      " [   1  745]\n",
      " [   1 2294]]\n"
     ]
    }
   ],
   "source": [
    "# 21행부터 30행까지 userid와 movie만 출력\n",
    "print(data[21:31, :2])"
   ]
  },
  {
   "cell_type": "code",
   "execution_count": 43,
   "metadata": {},
   "outputs": [
    {
     "name": "stdout",
     "output_type": "stream",
     "text": [
      "3.581564453029317\n",
      "3.581564453029317\n"
     ]
    }
   ],
   "source": [
    "# 전체 평점 평균\n",
    "\n",
    "print(data[:,2].mean())\n",
    "print(np.mean(data[:,2]))"
   ]
  },
  {
   "cell_type": "code",
   "execution_count": 44,
   "metadata": {},
   "outputs": [
    {
     "name": "stdout",
     "output_type": "stream",
     "text": [
      "(6040,)\n"
     ]
    }
   ],
   "source": [
    "# 사용자별 평점 평균(10명)\n",
    "\n",
    "user_ids = np.unique(data[:,0])\n",
    "print(user_ids.shape)\n",
    "\n",
    "mean_value=[]\n",
    "for id in user_ids:\n",
    "    data_user=data[data[:,0]==id,:]\n",
    "    value = data_user[:,2].mean()\n",
    "    mean_value.append([id,value])"
   ]
  },
  {
   "cell_type": "code",
   "execution_count": 46,
   "metadata": {},
   "outputs": [
    {
     "name": "stdout",
     "output_type": "stream",
     "text": [
      "결과 : [[1, 4.188679245283019], [2, 3.7131782945736433], [3, 3.9019607843137254], [4, 4.190476190476191], [5, 3.1464646464646466], [6, 3.9014084507042255], [7, 4.32258064516129], [8, 3.884892086330935], [9, 3.7358490566037736], [10, 4.114713216957606]]\n"
     ]
    }
   ],
   "source": [
    "print(\"결과 :\",mean_value[:10])"
   ]
  },
  {
   "cell_type": "code",
   "execution_count": 51,
   "metadata": {},
   "outputs": [
    {
     "name": "stdout",
     "output_type": "stream",
     "text": [
      "282\n",
      "[283.           4.96296296]\n",
      "4.962962962962963\n",
      "[ 282 2338 3323 ... 2743 4485 3597]\n"
     ]
    }
   ],
   "source": [
    "# 최고 평점 구하기\n",
    "arr_mean_values = np.array(mean_value)\n",
    "#np.argmax(arr_mean_values[:, ])\n",
    "\n",
    "print(np.argmax(arr_mean_values[:, 1]))\n",
    "print(arr_mean_values[282])\n",
    "\n",
    "print(np.max(arr_mean_values[:,1]))\n",
    "\n",
    "print(np.argsort(arr_mean_values[:,1])[::-1])"
   ]
  },
  {
   "cell_type": "code",
   "execution_count": null,
   "metadata": {},
   "outputs": [],
   "source": [
    "# 사용자별 평점 평균 데이터를 파일로 저장\n",
    "arr_mean_values = np.array(mean_value)\n",
    "print(type(arr_mean_values))\n",
    "\n",
    "np.savetxt(\"data/movie/id_rations.csv\",arr_mean_values,delimiter=\",\",fmt=\"%.1f\")"
   ]
  },
  {
   "cell_type": "code",
   "execution_count": 59,
   "metadata": {},
   "outputs": [
    {
     "data": {
      "text/plain": [
       "[1, 3, 5]"
      ]
     },
     "execution_count": 59,
     "metadata": {},
     "output_type": "execute_result"
    }
   ],
   "source": [
    "# :: (Extended Slices)\n",
    "arr = range(10)\n",
    "list(arr)\n",
    "\n",
    "list(arr[::2])  # 처음부터 끝까지 2간격으로 접근\n",
    "list(arr[1::2]) # 인덱스가 1부터 2간격으로 접근\n",
    "list(arr[::-1]) # 역순으로 접근\n",
    "list(arr[::-2]) # 역순으로 2간격 접근\n",
    "list(arr[3::-1]) # 인덱스가 3부터 역순으로\n",
    "list(arr[1:6:2]) # 인덱스가 1부터 6까지 2간격으로 접근"
   ]
  }
 ],
 "metadata": {
  "kernelspec": {
   "display_name": "Python 3",
   "language": "python",
   "name": "python3"
  },
  "language_info": {
   "codemirror_mode": {
    "name": "ipython",
    "version": 3
   },
   "file_extension": ".py",
   "mimetype": "text/x-python",
   "name": "python",
   "nbconvert_exporter": "python",
   "pygments_lexer": "ipython3",
   "version": "3.7.6"
  }
 },
 "nbformat": 4,
 "nbformat_minor": 4
}
